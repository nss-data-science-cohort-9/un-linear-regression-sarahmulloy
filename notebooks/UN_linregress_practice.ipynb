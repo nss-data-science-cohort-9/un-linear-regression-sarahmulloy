{
 "cells": [
  {
   "cell_type": "markdown",
   "id": "9fe726db-01eb-4f67-b56f-a8a16f24e3ef",
   "metadata": {},
   "source": [
    "## Linear Regression Practice"
   ]
  },
  {
   "cell_type": "markdown",
   "id": "6257b64d-0b07-4bd2-bd1e-0e7654f9c618",
   "metadata": {},
   "source": [
    "For this exercise, you've been provided with a csv file, gdp_le.csv, which contains the gdp per capita and life expectancy values that you were working with on the UN data exercise.\r"
   ]
  },
  {
   "cell_type": "code",
   "execution_count": 1,
   "id": "2b96b782-8610-4a78-8d10-9a7b4f6e1960",
   "metadata": {},
   "outputs": [],
   "source": [
    "import pandas as pd\n",
    "import numpy as np\n",
    "import matplotlib.pyplot as plt\n",
    "import statsmodels.formula.api as smf\n",
    "import statsmodels.stats.api as sms"
   ]
  },
  {
   "cell_type": "code",
   "execution_count": 2,
   "id": "f4f888e1-9122-4cf0-9fdd-1d911a274d70",
   "metadata": {},
   "outputs": [
    {
     "data": {
      "text/html": [
       "<div>\n",
       "<style scoped>\n",
       "    .dataframe tbody tr th:only-of-type {\n",
       "        vertical-align: middle;\n",
       "    }\n",
       "\n",
       "    .dataframe tbody tr th {\n",
       "        vertical-align: top;\n",
       "    }\n",
       "\n",
       "    .dataframe thead th {\n",
       "        text-align: right;\n",
       "    }\n",
       "</style>\n",
       "<table border=\"1\" class=\"dataframe\">\n",
       "  <thead>\n",
       "    <tr style=\"text-align: right;\">\n",
       "      <th></th>\n",
       "      <th>Country</th>\n",
       "      <th>Year</th>\n",
       "      <th>GDP_Per_Capita</th>\n",
       "      <th>Continent</th>\n",
       "      <th>Life_Expectancy</th>\n",
       "    </tr>\n",
       "  </thead>\n",
       "  <tbody>\n",
       "    <tr>\n",
       "      <th>0</th>\n",
       "      <td>Afghanistan</td>\n",
       "      <td>2021</td>\n",
       "      <td>1517.016266</td>\n",
       "      <td>Asia</td>\n",
       "      <td>61.982</td>\n",
       "    </tr>\n",
       "    <tr>\n",
       "      <th>1</th>\n",
       "      <td>Afghanistan</td>\n",
       "      <td>2020</td>\n",
       "      <td>1968.341002</td>\n",
       "      <td>Asia</td>\n",
       "      <td>62.575</td>\n",
       "    </tr>\n",
       "    <tr>\n",
       "      <th>2</th>\n",
       "      <td>Afghanistan</td>\n",
       "      <td>2019</td>\n",
       "      <td>2079.921861</td>\n",
       "      <td>Asia</td>\n",
       "      <td>63.565</td>\n",
       "    </tr>\n",
       "    <tr>\n",
       "      <th>3</th>\n",
       "      <td>Afghanistan</td>\n",
       "      <td>2018</td>\n",
       "      <td>2060.698973</td>\n",
       "      <td>Asia</td>\n",
       "      <td>63.081</td>\n",
       "    </tr>\n",
       "    <tr>\n",
       "      <th>4</th>\n",
       "      <td>Afghanistan</td>\n",
       "      <td>2017</td>\n",
       "      <td>2096.093111</td>\n",
       "      <td>Asia</td>\n",
       "      <td>63.016</td>\n",
       "    </tr>\n",
       "  </tbody>\n",
       "</table>\n",
       "</div>"
      ],
      "text/plain": [
       "       Country  Year  GDP_Per_Capita Continent  Life_Expectancy\n",
       "0  Afghanistan  2021     1517.016266      Asia           61.982\n",
       "1  Afghanistan  2020     1968.341002      Asia           62.575\n",
       "2  Afghanistan  2019     2079.921861      Asia           63.565\n",
       "3  Afghanistan  2018     2060.698973      Asia           63.081\n",
       "4  Afghanistan  2017     2096.093111      Asia           63.016"
      ]
     },
     "execution_count": 2,
     "metadata": {},
     "output_type": "execute_result"
    }
   ],
   "source": [
    "gdp_le= pd.read_csv('../data/gdp_le.csv')\n",
    "gdp_le.head(5)"
   ]
  },
  {
   "cell_type": "markdown",
   "id": "8ad8010b-ae2e-4b85-8943-c96274ebfd29",
   "metadata": {},
   "source": [
    "\r",
    "### 1. Start by fitting a linear regression model with target being life expectancy and predictor variable year."
   ]
  },
  {
   "cell_type": "code",
   "execution_count": 3,
   "id": "99ea84b2-ae6c-4915-9f4a-ec0bf1b2229f",
   "metadata": {},
   "outputs": [],
   "source": [
    "le_yr_model= smf.ols(\"Life_Expectancy ~ Year\", data=gdp_le).fit()"
   ]
  },
  {
   "cell_type": "markdown",
   "id": "2b63da60-74a0-4277-be62-7e4ad86b8183",
   "metadata": {},
   "source": [
    "### 1a. What coefficients do you get? Interpret the meaning of these coefficents."
   ]
  },
  {
   "cell_type": "code",
   "execution_count": 4,
   "id": "63e7f35d-7ba3-496e-a405-e842ff2e8621",
   "metadata": {},
   "outputs": [
    {
     "data": {
      "text/plain": [
       "Intercept   -468.138140\n",
       "Year           0.267722\n",
       "dtype: float64"
      ]
     },
     "execution_count": 4,
     "metadata": {},
     "output_type": "execute_result"
    }
   ],
   "source": [
    "le_yr_model.params"
   ]
  },
  {
   "cell_type": "markdown",
   "id": "737c48ef-2614-4e31-a82b-fb28a70c5a30",
   "metadata": {},
   "source": [
    "The intercept is -468 and coefficent is 0.26 year. This means that for every year, the average life expectancy increases by 0.26 years. The negative intercept suggestst that year 0 is so far away from our years samples (1990-2023) that the intercept would be very far away?"
   ]
  },
  {
   "cell_type": "markdown",
   "id": "3a11095d-0a7b-4f86-af14-a57346c92b36",
   "metadata": {},
   "source": [
    "### 1b. Using just the year makes the intercept term difficult to interpret. Create a new model, but this time use years since 1990 as your predictor variable. Hint: You can the patsy identity function to modify your predictors in your model formula. Inspect the new coefficients and interpret the meaning of them. Are they statistically significant?"
   ]
  },
  {
   "cell_type": "code",
   "execution_count": 5,
   "id": "9efcc97b-5cc7-4c39-b7df-07b03c4b4e64",
   "metadata": {},
   "outputs": [
    {
     "data": {
      "text/plain": [
       "Intercept          64.628889\n",
       "year_since_1990     0.267722\n",
       "dtype: float64"
      ]
     },
     "execution_count": 5,
     "metadata": {},
     "output_type": "execute_result"
    }
   ],
   "source": [
    "#create a new column calculating the years since 1990 as a metric for year \n",
    "gdp_le['year_since_1990']= gdp_le['Year']-1990\n",
    "gdp_le\n",
    "\n",
    "#run a new model fitting the life_expectancy and year variables \n",
    "le_yr_model2= smf.ols(\"Life_Expectancy ~ year_since_1990\", data=gdp_le).fit()\n",
    "le_yr_model2.params"
   ]
  },
  {
   "cell_type": "code",
   "execution_count": 6,
   "id": "b3fbaeea-1f84-49bd-85ba-7260c80e9704",
   "metadata": {},
   "outputs": [
    {
     "data": {
      "text/plain": [
       "Intercept         64.628889\n",
       "I(Year - 1990)     0.267722\n",
       "dtype: float64"
      ]
     },
     "execution_count": 6,
     "metadata": {},
     "output_type": "execute_result"
    }
   ],
   "source": [
    "####\n",
    "#Michael review update- patsy solution\n",
    "####\n",
    "\n",
    "#run a new model fitting the life_expectancy and year variables \n",
    "le_yr_wpatsy= smf.ols(\"Life_Expectancy ~ I(Year - 1990)\", data=gdp_le).fit()\n",
    "le_yr_wpatsy.params"
   ]
  },
  {
   "cell_type": "markdown",
   "id": "e5b0bc0d-fdef-442f-85c4-ddeff4569375",
   "metadata": {},
   "source": [
    "**reponse** With the years adjusted, we now get a positive intercept value of 64.62 but the same coefficent value. This means that for every year, life expectancy increased by 62.88 years. "
   ]
  },
  {
   "cell_type": "code",
   "execution_count": 7,
   "id": "d7abfd89-9891-43cf-9b57-85eff92ec4e1",
   "metadata": {},
   "outputs": [
    {
     "data": {
      "text/html": [
       "<table class=\"simpletable\">\n",
       "<caption>OLS Regression Results</caption>\n",
       "<tr>\n",
       "  <th>Dep. Variable:</th>     <td>Life_Expectancy</td> <th>  R-squared:         </th> <td>   0.072</td> \n",
       "</tr>\n",
       "<tr>\n",
       "  <th>Model:</th>                   <td>OLS</td>       <th>  Adj. R-squared:    </th> <td>   0.071</td> \n",
       "</tr>\n",
       "<tr>\n",
       "  <th>Method:</th>             <td>Least Squares</td>  <th>  F-statistic:       </th> <td>   424.0</td> \n",
       "</tr>\n",
       "<tr>\n",
       "  <th>Date:</th>             <td>Tue, 28 Oct 2025</td> <th>  Prob (F-statistic):</th> <td>8.13e-91</td> \n",
       "</tr>\n",
       "<tr>\n",
       "  <th>Time:</th>                 <td>21:12:43</td>     <th>  Log-Likelihood:    </th> <td> -19950.</td> \n",
       "</tr>\n",
       "<tr>\n",
       "  <th>No. Observations:</th>      <td>  5504</td>      <th>  AIC:               </th> <td>3.990e+04</td>\n",
       "</tr>\n",
       "<tr>\n",
       "  <th>Df Residuals:</th>          <td>  5502</td>      <th>  BIC:               </th> <td>3.992e+04</td>\n",
       "</tr>\n",
       "<tr>\n",
       "  <th>Df Model:</th>              <td>     1</td>      <th>                     </th>     <td> </td>    \n",
       "</tr>\n",
       "<tr>\n",
       "  <th>Covariance Type:</th>      <td>nonrobust</td>    <th>                     </th>     <td> </td>    \n",
       "</tr>\n",
       "</table>\n",
       "<table class=\"simpletable\">\n",
       "<tr>\n",
       "         <td></td>            <th>coef</th>     <th>std err</th>      <th>t</th>      <th>P>|t|</th>  <th>[0.025</th>    <th>0.975]</th>  \n",
       "</tr>\n",
       "<tr>\n",
       "  <th>Intercept</th>       <td>   64.6289</td> <td>    0.245</td> <td>  263.308</td> <td> 0.000</td> <td>   64.148</td> <td>   65.110</td>\n",
       "</tr>\n",
       "<tr>\n",
       "  <th>year_since_1990</th> <td>    0.2677</td> <td>    0.013</td> <td>   20.591</td> <td> 0.000</td> <td>    0.242</td> <td>    0.293</td>\n",
       "</tr>\n",
       "</table>\n",
       "<table class=\"simpletable\">\n",
       "<tr>\n",
       "  <th>Omnibus:</th>       <td>387.409</td> <th>  Durbin-Watson:     </th> <td>   0.058</td> \n",
       "</tr>\n",
       "<tr>\n",
       "  <th>Prob(Omnibus):</th> <td> 0.000</td>  <th>  Jarque-Bera (JB):  </th> <td> 469.138</td> \n",
       "</tr>\n",
       "<tr>\n",
       "  <th>Skew:</th>          <td>-0.709</td>  <th>  Prob(JB):          </th> <td>1.34e-102</td>\n",
       "</tr>\n",
       "<tr>\n",
       "  <th>Kurtosis:</th>      <td> 2.820</td>  <th>  Cond. No.          </th> <td>    37.9</td> \n",
       "</tr>\n",
       "</table><br/><br/>Notes:<br/>[1] Standard Errors assume that the covariance matrix of the errors is correctly specified."
      ],
      "text/latex": [
       "\\begin{center}\n",
       "\\begin{tabular}{lclc}\n",
       "\\toprule\n",
       "\\textbf{Dep. Variable:}    & Life\\_Expectancy & \\textbf{  R-squared:         } &     0.072   \\\\\n",
       "\\textbf{Model:}            &       OLS        & \\textbf{  Adj. R-squared:    } &     0.071   \\\\\n",
       "\\textbf{Method:}           &  Least Squares   & \\textbf{  F-statistic:       } &     424.0   \\\\\n",
       "\\textbf{Date:}             & Tue, 28 Oct 2025 & \\textbf{  Prob (F-statistic):} &  8.13e-91   \\\\\n",
       "\\textbf{Time:}             &     21:12:43     & \\textbf{  Log-Likelihood:    } &   -19950.   \\\\\n",
       "\\textbf{No. Observations:} &        5504      & \\textbf{  AIC:               } & 3.990e+04   \\\\\n",
       "\\textbf{Df Residuals:}     &        5502      & \\textbf{  BIC:               } & 3.992e+04   \\\\\n",
       "\\textbf{Df Model:}         &           1      & \\textbf{                     } &             \\\\\n",
       "\\textbf{Covariance Type:}  &    nonrobust     & \\textbf{                     } &             \\\\\n",
       "\\bottomrule\n",
       "\\end{tabular}\n",
       "\\begin{tabular}{lcccccc}\n",
       "                           & \\textbf{coef} & \\textbf{std err} & \\textbf{t} & \\textbf{P$> |$t$|$} & \\textbf{[0.025} & \\textbf{0.975]}  \\\\\n",
       "\\midrule\n",
       "\\textbf{Intercept}         &      64.6289  &        0.245     &   263.308  &         0.000        &       64.148    &       65.110     \\\\\n",
       "\\textbf{year\\_since\\_1990} &       0.2677  &        0.013     &    20.591  &         0.000        &        0.242    &        0.293     \\\\\n",
       "\\bottomrule\n",
       "\\end{tabular}\n",
       "\\begin{tabular}{lclc}\n",
       "\\textbf{Omnibus:}       & 387.409 & \\textbf{  Durbin-Watson:     } &     0.058  \\\\\n",
       "\\textbf{Prob(Omnibus):} &   0.000 & \\textbf{  Jarque-Bera (JB):  } &   469.138  \\\\\n",
       "\\textbf{Skew:}          &  -0.709 & \\textbf{  Prob(JB):          } & 1.34e-102  \\\\\n",
       "\\textbf{Kurtosis:}      &   2.820 & \\textbf{  Cond. No.          } &      37.9  \\\\\n",
       "\\bottomrule\n",
       "\\end{tabular}\n",
       "%\\caption{OLS Regression Results}\n",
       "\\end{center}\n",
       "\n",
       "Notes: \\newline\n",
       " [1] Standard Errors assume that the covariance matrix of the errors is correctly specified."
      ],
      "text/plain": [
       "<class 'statsmodels.iolib.summary.Summary'>\n",
       "\"\"\"\n",
       "                            OLS Regression Results                            \n",
       "==============================================================================\n",
       "Dep. Variable:        Life_Expectancy   R-squared:                       0.072\n",
       "Model:                            OLS   Adj. R-squared:                  0.071\n",
       "Method:                 Least Squares   F-statistic:                     424.0\n",
       "Date:                Tue, 28 Oct 2025   Prob (F-statistic):           8.13e-91\n",
       "Time:                        21:12:43   Log-Likelihood:                -19950.\n",
       "No. Observations:                5504   AIC:                         3.990e+04\n",
       "Df Residuals:                    5502   BIC:                         3.992e+04\n",
       "Df Model:                           1                                         \n",
       "Covariance Type:            nonrobust                                         \n",
       "===================================================================================\n",
       "                      coef    std err          t      P>|t|      [0.025      0.975]\n",
       "-----------------------------------------------------------------------------------\n",
       "Intercept          64.6289      0.245    263.308      0.000      64.148      65.110\n",
       "year_since_1990     0.2677      0.013     20.591      0.000       0.242       0.293\n",
       "==============================================================================\n",
       "Omnibus:                      387.409   Durbin-Watson:                   0.058\n",
       "Prob(Omnibus):                  0.000   Jarque-Bera (JB):              469.138\n",
       "Skew:                          -0.709   Prob(JB):                    1.34e-102\n",
       "Kurtosis:                       2.820   Cond. No.                         37.9\n",
       "==============================================================================\n",
       "\n",
       "Notes:\n",
       "[1] Standard Errors assume that the covariance matrix of the errors is correctly specified.\n",
       "\"\"\""
      ]
     },
     "execution_count": 7,
     "metadata": {},
     "output_type": "execute_result"
    }
   ],
   "source": [
    "le_yr_model2.summary()"
   ]
  },
  {
   "cell_type": "markdown",
   "id": "12b7293e-aa78-4c80-bdf9-a2d0c4931772",
   "metadata": {},
   "source": [
    "**response** The p-value for 'years_since_1990' is 0.000. This means that if the null hypothesis were true, the following distribution is highly unlikely and therefore we can reject the null hypothesis that year has no effect on life expectancy. Therefore, the results of the linear regression IS statistically significant, and it can be concluded that year does have an association with increased life expectancy. "
   ]
  },
  {
   "cell_type": "markdown",
   "id": "a52a282d-1a40-4f31-a3ea-37dfaed5da8e",
   "metadata": {},
   "source": [
    "### 1c. Compare the actual mean life expectancy per year to the model's estimate. How well does it do?"
   ]
  },
  {
   "cell_type": "code",
   "execution_count": 8,
   "id": "7aa641c0-bd15-41de-8c73-4a1247c52ca2",
   "metadata": {},
   "outputs": [
    {
     "data": {
      "text/html": [
       "<div>\n",
       "<style scoped>\n",
       "    .dataframe tbody tr th:only-of-type {\n",
       "        vertical-align: middle;\n",
       "    }\n",
       "\n",
       "    .dataframe tbody tr th {\n",
       "        vertical-align: top;\n",
       "    }\n",
       "\n",
       "    .dataframe thead th {\n",
       "        text-align: right;\n",
       "    }\n",
       "</style>\n",
       "<table border=\"1\" class=\"dataframe\">\n",
       "  <thead>\n",
       "    <tr style=\"text-align: right;\">\n",
       "      <th></th>\n",
       "      <th>Life_Expectancy</th>\n",
       "      <th>mean_estimate</th>\n",
       "    </tr>\n",
       "    <tr>\n",
       "      <th>year_since_1990</th>\n",
       "      <th></th>\n",
       "      <th></th>\n",
       "    </tr>\n",
       "  </thead>\n",
       "  <tbody>\n",
       "    <tr>\n",
       "      <th>0</th>\n",
       "      <td>64.745253</td>\n",
       "      <td>64.628889</td>\n",
       "    </tr>\n",
       "    <tr>\n",
       "      <th>1</th>\n",
       "      <td>65.021276</td>\n",
       "      <td>64.896612</td>\n",
       "    </tr>\n",
       "    <tr>\n",
       "      <th>2</th>\n",
       "      <td>65.217845</td>\n",
       "      <td>65.164334</td>\n",
       "    </tr>\n",
       "    <tr>\n",
       "      <th>3</th>\n",
       "      <td>65.218031</td>\n",
       "      <td>65.432056</td>\n",
       "    </tr>\n",
       "    <tr>\n",
       "      <th>4</th>\n",
       "      <td>65.339539</td>\n",
       "      <td>65.699778</td>\n",
       "    </tr>\n",
       "  </tbody>\n",
       "</table>\n",
       "</div>"
      ],
      "text/plain": [
       "                 Life_Expectancy  mean_estimate\n",
       "year_since_1990                                \n",
       "0                      64.745253      64.628889\n",
       "1                      65.021276      64.896612\n",
       "2                      65.217845      65.164334\n",
       "3                      65.218031      65.432056\n",
       "4                      65.339539      65.699778"
      ]
     },
     "execution_count": 8,
     "metadata": {},
     "output_type": "execute_result"
    }
   ],
   "source": [
    "### Use the linear regression fit model to predict the means from the dataset \n",
    "\n",
    "#create a dtaframe with the sample variables to plug into the predicted measurements\n",
    "#We want to know whether the year (x) would predict the life expectancy, so we need to make a predict model based on the years 0-30\n",
    "#That can also just be the listed series of the years\n",
    "le_yr_predict= pd.DataFrame()\n",
    "le_yr_predict['year_since_1990']= gdp_le['year_since_1990'].unique() #make a unique column or else it will put in the number of rows for every country \n",
    "\n",
    "#Now make the mean estimate based on the prdediciton from the previous model\n",
    "le_yr_predict['mean_estimate']= le_yr_model2.predict(le_yr_predict)\n",
    "\n",
    "#Create a new dataframe of the actual mean per year compared to the predicted model mean\n",
    "gdp_le= gdp_le.merge(le_yr_predict, left_on='year_since_1990', right_on='year_since_1990', how='left')\n",
    "compare_mean= gdp_le.groupby('year_since_1990')[['Life_Expectancy', 'mean_estimate']].mean()\n",
    "compare_mean.head()"
   ]
  },
  {
   "cell_type": "code",
   "execution_count": 9,
   "id": "b512eef0-1f5f-4f68-907a-bc42a635053b",
   "metadata": {},
   "outputs": [
    {
     "data": {
      "image/png": "[encoded data removed]",
      "text/plain": [
       "<Figure size 640x480 with 1 Axes>"
      ]
     },
     "metadata": {},
     "output_type": "display_data"
    }
   ],
   "source": [
    "#Visualize the difference with a plot \n",
    "fig, ax= plt.subplots()\n",
    "ax.plot(compare_mean['Life_Expectancy'], label='actual mean');\n",
    "ax.plot(compare_mean['mean_estimate'], label='model mean', linestyle='--', color='0.5');\n",
    "ax.set_title('Comparing model mean to actual mean')\n",
    "ax.set_ylabel('Average life expectancy')\n",
    "ax.set_xlabel('Year since 1990')\n",
    "ax.legend();"
   ]
  },
  {
   "cell_type": "markdown",
   "id": "5f54ebcc-6a2f-491e-8a71-b59fcbf40787",
   "metadata": {},
   "source": [
    "### 1d. Plot the actual values against your model's estimates for the mean life expectancy."
   ]
  },
  {
   "cell_type": "code",
   "execution_count": 10,
   "id": "586eb74d-3db3-4eae-9c3b-e11a4d84d71b",
   "metadata": {},
   "outputs": [
    {
     "data": {
      "image/png": "[encoded data removed]",
      "text/plain": [
       "<Figure size 640x480 with 1 Axes>"
      ]
     },
     "metadata": {},
     "output_type": "display_data"
    }
   ],
   "source": [
    "##Visualize with a scatter plot \n",
    "fig, ax = plt.subplots()\n",
    "ax.scatter(gdp_le['year_since_1990'], gdp_le['Life_Expectancy'])\n",
    "ax.plot(le_yr_predict['year_since_1990'], le_yr_predict['mean_estimate'], color='k')\n",
    "ax.set_title('Life expectancy over time, with fit linear regression model')\n",
    "ax.set_ylabel('Life Expectancy (years)')\n",
    "ax.set_ylabel('Years since 1990')\n",
    "plt.show()\n"
   ]
  },
  {
   "cell_type": "markdown",
   "id": "f1cb58d2-880c-4166-8fd4-249d59672d36",
   "metadata": {},
   "source": [
    "### 1e. Inspect the R-squared value for the model. does it make sense, given the plot?"
   ]
  },
  {
   "cell_type": "code",
   "execution_count": 11,
   "id": "17b023da-2c27-4691-90db-7b68c4c8fbeb",
   "metadata": {},
   "outputs": [
    {
     "data": {
      "text/plain": [
       "0.07154748843194658"
      ]
     },
     "execution_count": 11,
     "metadata": {},
     "output_type": "execute_result"
    }
   ],
   "source": [
    "#r squared values- put the model variable using the rsquared function\n",
    "le_yr_model2.rsquared"
   ]
  },
  {
   "cell_type": "markdown",
   "id": "3b366b5c-3408-465f-a758-70dff734785a",
   "metadata": {},
   "source": [
    "**response** The rsquared value is 0.072. A rsquared value of 0 means that the plot has no residuals. The prediction line of fit does have very few resisduals, since all values are spread evenly at the top and bottom of the prediction line. Therefore, I would expect the model to have an rsquared value close to 0. The rsquare matches the expected trends, which makes since given the plot!"
   ]
  },
  {
   "cell_type": "markdown",
   "id": "111933f0-4316-41cf-a3ce-81091a72d7a8",
   "metadata": {},
   "source": [
    "\r"
   ]
  },
  {
   "cell_type": "markdown",
   "id": "82a50ee1-bfae-4fde-b47f-876019135623",
   "metadata": {},
   "source": [
    "-----------"
   ]
  },
  {
   "cell_type": "markdown",
   "id": "452df4d0-1d7a-4a78-9a82-60b175918ae1",
   "metadata": {},
   "source": [
    "## 2. Filter the full dataset down to just the year 2021. Fit a linear regression model with target being life expectancy and predictor variable gdp per capita."
   ]
  },
  {
   "cell_type": "code",
   "execution_count": 12,
   "id": "0ea79045-2ae3-438a-b5fd-e5b2b2bdc795",
   "metadata": {},
   "outputs": [],
   "source": [
    "#filter out to 2021\n",
    "gdp_le_21= gdp_le[gdp_le['Year'] == 2021]\n",
    "gdp_le_21.head()\n",
    "\n",
    "#make a regression model\n",
    "model_21= smf.ols(\"Life_Expectancy ~ GDP_Per_Capita\", data=gdp_le_21).fit()"
   ]
  },
  {
   "cell_type": "markdown",
   "id": "86824366-df06-48fc-8e78-1ef82023fc17",
   "metadata": {},
   "source": [
    "### 2a. What coefficients do you get? Interpret the meaning of those coefficients."
   ]
  },
  {
   "cell_type": "code",
   "execution_count": 13,
   "id": "f5019a20-c4f2-468a-a895-d54585833b39",
   "metadata": {},
   "outputs": [
    {
     "data": {
      "text/plain": [
       "Intercept         65.949870\n",
       "GDP_Per_Capita     0.000257\n",
       "dtype: float64"
      ]
     },
     "execution_count": 13,
     "metadata": {},
     "output_type": "execute_result"
    }
   ],
   "source": [
    "model_21.params"
   ]
  },
  {
   "cell_type": "markdown",
   "id": "aefae108-943a-499f-9ad9-096ad90bcca8",
   "metadata": {},
   "source": [
    "**reponse** The coefficent is 0.000257. So every metric of life expectancys (year?) would increase the GDP_per_capita value by 0.00025 dollars. "
   ]
  },
  {
   "cell_type": "markdown",
   "id": "d4b9f05b-e447-4377-9272-e94dbfa1d93d",
   "metadata": {},
   "source": [
    "### 2b. Refit your model, but this time use thousands of dollars of gdp per capita as your predictor. How does this change your coefficients?"
   ]
  },
  {
   "cell_type": "code",
   "execution_count": 14,
   "id": "07652392-d4e2-4506-ae6d-5afeea1eb6e8",
   "metadata": {},
   "outputs": [
    {
     "name": "stderr",
     "output_type": "stream",
     "text": [
      "C:\\Users\\Mullo\\AppData\\Local\\Temp\\ipykernel_49300\\1557023728.py:1: SettingWithCopyWarning: \n",
      "A value is trying to be set on a copy of a slice from a DataFrame.\n",
      "Try using .loc[row_indexer,col_indexer] = value instead\n",
      "\n",
      "See the caveats in the documentation: https://pandas.pydata.org/pandas-docs/stable/user_guide/indexing.html#returning-a-view-versus-a-copy\n",
      "  gdp_le_21['GDP_thousand']= (gdp_le_21['GDP_Per_Capita']/ 1000)\n"
     ]
    },
    {
     "data": {
      "text/plain": [
       "Intercept       65.949870\n",
       "GDP_thousand     0.256892\n",
       "dtype: float64"
      ]
     },
     "execution_count": 14,
     "metadata": {},
     "output_type": "execute_result"
    }
   ],
   "source": [
    "gdp_le_21['GDP_thousand']= (gdp_le_21['GDP_Per_Capita']/ 1000)\n",
    "gdp_le_21\n",
    "\n",
    "#Rerun the fit model with the new column\n",
    "model_21_thousand= smf.ols(\"Life_Expectancy ~ GDP_thousand\", data=gdp_le_21).fit()\n",
    "model_21_thousand.params"
   ]
  },
  {
   "cell_type": "code",
   "execution_count": 15,
   "id": "831252b6-824b-4880-828f-efc16bed79ef",
   "metadata": {},
   "outputs": [
    {
     "name": "stdout",
     "output_type": "stream",
     "text": [
      "The original coefficent is 0.00025689174818069836, and the refit coefficent is 0.25689174818069865\n",
      "The refit model changes the coefficent by a 99900 percent change\n",
      "The intercept value does not change\n"
     ]
    }
   ],
   "source": [
    "pc_change= ((model_21_thousand.params.iloc[1]- model_21.params.iloc[1]) / (model_21.params.iloc[1]))*100\n",
    "print(f'The original coefficent is {model_21.params.iloc[1]}, and the refit coefficent is {model_21_thousand.params.iloc[1]}')\n",
    "print(f'The refit model changes the coefficent by a {round(pc_change)} percent change')\n",
    "print('The intercept value does not change')"
   ]
  },
  {
   "cell_type": "markdown",
   "id": "077e74c7-06de-4fe1-bea7-3ce8d6ba948c",
   "metadata": {},
   "source": [
    "### 2c. Are the coefficients statistically significant?"
   ]
  },
  {
   "cell_type": "code",
   "execution_count": 16,
   "id": "9b3f749f-c6d7-45bb-9dba-f985c5de086f",
   "metadata": {},
   "outputs": [
    {
     "data": {
      "text/html": [
       "<table class=\"simpletable\">\n",
       "<caption>OLS Regression Results</caption>\n",
       "<tr>\n",
       "  <th>Dep. Variable:</th>     <td>Life_Expectancy</td> <th>  R-squared:         </th> <td>   0.555</td>\n",
       "</tr>\n",
       "<tr>\n",
       "  <th>Model:</th>                   <td>OLS</td>       <th>  Adj. R-squared:    </th> <td>   0.553</td>\n",
       "</tr>\n",
       "<tr>\n",
       "  <th>Method:</th>             <td>Least Squares</td>  <th>  F-statistic:       </th> <td>   213.4</td>\n",
       "</tr>\n",
       "<tr>\n",
       "  <th>Date:</th>             <td>Tue, 28 Oct 2025</td> <th>  Prob (F-statistic):</th> <td>6.81e-32</td>\n",
       "</tr>\n",
       "<tr>\n",
       "  <th>Time:</th>                 <td>21:12:44</td>     <th>  Log-Likelihood:    </th> <td> -529.25</td>\n",
       "</tr>\n",
       "<tr>\n",
       "  <th>No. Observations:</th>      <td>   173</td>      <th>  AIC:               </th> <td>   1062.</td>\n",
       "</tr>\n",
       "<tr>\n",
       "  <th>Df Residuals:</th>          <td>   171</td>      <th>  BIC:               </th> <td>   1069.</td>\n",
       "</tr>\n",
       "<tr>\n",
       "  <th>Df Model:</th>              <td>     1</td>      <th>                     </th>     <td> </td>   \n",
       "</tr>\n",
       "<tr>\n",
       "  <th>Covariance Type:</th>      <td>nonrobust</td>    <th>                     </th>     <td> </td>   \n",
       "</tr>\n",
       "</table>\n",
       "<table class=\"simpletable\">\n",
       "<tr>\n",
       "         <td></td>           <th>coef</th>     <th>std err</th>      <th>t</th>      <th>P>|t|</th>  <th>[0.025</th>    <th>0.975]</th>  \n",
       "</tr>\n",
       "<tr>\n",
       "  <th>Intercept</th>      <td>   65.9499</td> <td>    0.549</td> <td>  120.225</td> <td> 0.000</td> <td>   64.867</td> <td>   67.033</td>\n",
       "</tr>\n",
       "<tr>\n",
       "  <th>GDP_Per_Capita</th> <td>    0.0003</td> <td> 1.76e-05</td> <td>   14.608</td> <td> 0.000</td> <td>    0.000</td> <td>    0.000</td>\n",
       "</tr>\n",
       "</table>\n",
       "<table class=\"simpletable\">\n",
       "<tr>\n",
       "  <th>Omnibus:</th>       <td>11.676</td> <th>  Durbin-Watson:     </th> <td>   1.887</td>\n",
       "</tr>\n",
       "<tr>\n",
       "  <th>Prob(Omnibus):</th> <td> 0.003</td> <th>  Jarque-Bera (JB):  </th> <td>  12.725</td>\n",
       "</tr>\n",
       "<tr>\n",
       "  <th>Skew:</th>          <td>-0.664</td> <th>  Prob(JB):          </th> <td> 0.00173</td>\n",
       "</tr>\n",
       "<tr>\n",
       "  <th>Kurtosis:</th>      <td> 2.946</td> <th>  Cond. No.          </th> <td>4.34e+04</td>\n",
       "</tr>\n",
       "</table><br/><br/>Notes:<br/>[1] Standard Errors assume that the covariance matrix of the errors is correctly specified.<br/>[2] The condition number is large, 4.34e+04. This might indicate that there are<br/>strong multicollinearity or other numerical problems."
      ],
      "text/latex": [
       "\\begin{center}\n",
       "\\begin{tabular}{lclc}\n",
       "\\toprule\n",
       "\\textbf{Dep. Variable:}    & Life\\_Expectancy & \\textbf{  R-squared:         } &     0.555   \\\\\n",
       "\\textbf{Model:}            &       OLS        & \\textbf{  Adj. R-squared:    } &     0.553   \\\\\n",
       "\\textbf{Method:}           &  Least Squares   & \\textbf{  F-statistic:       } &     213.4   \\\\\n",
       "\\textbf{Date:}             & Tue, 28 Oct 2025 & \\textbf{  Prob (F-statistic):} &  6.81e-32   \\\\\n",
       "\\textbf{Time:}             &     21:12:44     & \\textbf{  Log-Likelihood:    } &   -529.25   \\\\\n",
       "\\textbf{No. Observations:} &         173      & \\textbf{  AIC:               } &     1062.   \\\\\n",
       "\\textbf{Df Residuals:}     &         171      & \\textbf{  BIC:               } &     1069.   \\\\\n",
       "\\textbf{Df Model:}         &           1      & \\textbf{                     } &             \\\\\n",
       "\\textbf{Covariance Type:}  &    nonrobust     & \\textbf{                     } &             \\\\\n",
       "\\bottomrule\n",
       "\\end{tabular}\n",
       "\\begin{tabular}{lcccccc}\n",
       "                          & \\textbf{coef} & \\textbf{std err} & \\textbf{t} & \\textbf{P$> |$t$|$} & \\textbf{[0.025} & \\textbf{0.975]}  \\\\\n",
       "\\midrule\n",
       "\\textbf{Intercept}        &      65.9499  &        0.549     &   120.225  &         0.000        &       64.867    &       67.033     \\\\\n",
       "\\textbf{GDP\\_Per\\_Capita} &       0.0003  &     1.76e-05     &    14.608  &         0.000        &        0.000    &        0.000     \\\\\n",
       "\\bottomrule\n",
       "\\end{tabular}\n",
       "\\begin{tabular}{lclc}\n",
       "\\textbf{Omnibus:}       & 11.676 & \\textbf{  Durbin-Watson:     } &    1.887  \\\\\n",
       "\\textbf{Prob(Omnibus):} &  0.003 & \\textbf{  Jarque-Bera (JB):  } &   12.725  \\\\\n",
       "\\textbf{Skew:}          & -0.664 & \\textbf{  Prob(JB):          } &  0.00173  \\\\\n",
       "\\textbf{Kurtosis:}      &  2.946 & \\textbf{  Cond. No.          } & 4.34e+04  \\\\\n",
       "\\bottomrule\n",
       "\\end{tabular}\n",
       "%\\caption{OLS Regression Results}\n",
       "\\end{center}\n",
       "\n",
       "Notes: \\newline\n",
       " [1] Standard Errors assume that the covariance matrix of the errors is correctly specified. \\newline\n",
       " [2] The condition number is large, 4.34e+04. This might indicate that there are \\newline\n",
       " strong multicollinearity or other numerical problems."
      ],
      "text/plain": [
       "<class 'statsmodels.iolib.summary.Summary'>\n",
       "\"\"\"\n",
       "                            OLS Regression Results                            \n",
       "==============================================================================\n",
       "Dep. Variable:        Life_Expectancy   R-squared:                       0.555\n",
       "Model:                            OLS   Adj. R-squared:                  0.553\n",
       "Method:                 Least Squares   F-statistic:                     213.4\n",
       "Date:                Tue, 28 Oct 2025   Prob (F-statistic):           6.81e-32\n",
       "Time:                        21:12:44   Log-Likelihood:                -529.25\n",
       "No. Observations:                 173   AIC:                             1062.\n",
       "Df Residuals:                     171   BIC:                             1069.\n",
       "Df Model:                           1                                         \n",
       "Covariance Type:            nonrobust                                         \n",
       "==================================================================================\n",
       "                     coef    std err          t      P>|t|      [0.025      0.975]\n",
       "----------------------------------------------------------------------------------\n",
       "Intercept         65.9499      0.549    120.225      0.000      64.867      67.033\n",
       "GDP_Per_Capita     0.0003   1.76e-05     14.608      0.000       0.000       0.000\n",
       "==============================================================================\n",
       "Omnibus:                       11.676   Durbin-Watson:                   1.887\n",
       "Prob(Omnibus):                  0.003   Jarque-Bera (JB):               12.725\n",
       "Skew:                          -0.664   Prob(JB):                      0.00173\n",
       "Kurtosis:                       2.946   Cond. No.                     4.34e+04\n",
       "==============================================================================\n",
       "\n",
       "Notes:\n",
       "[1] Standard Errors assume that the covariance matrix of the errors is correctly specified.\n",
       "[2] The condition number is large, 4.34e+04. This might indicate that there are\n",
       "strong multicollinearity or other numerical problems.\n",
       "\"\"\""
      ]
     },
     "execution_count": 16,
     "metadata": {},
     "output_type": "execute_result"
    }
   ],
   "source": [
    "model_21.summary()"
   ]
  },
  {
   "cell_type": "code",
   "execution_count": 17,
   "id": "4a62959e-3fe6-420b-b519-f18dc62be32e",
   "metadata": {},
   "outputs": [
    {
     "data": {
      "text/html": [
       "<table class=\"simpletable\">\n",
       "<caption>OLS Regression Results</caption>\n",
       "<tr>\n",
       "  <th>Dep. Variable:</th>     <td>Life_Expectancy</td> <th>  R-squared:         </th> <td>   0.555</td>\n",
       "</tr>\n",
       "<tr>\n",
       "  <th>Model:</th>                   <td>OLS</td>       <th>  Adj. R-squared:    </th> <td>   0.553</td>\n",
       "</tr>\n",
       "<tr>\n",
       "  <th>Method:</th>             <td>Least Squares</td>  <th>  F-statistic:       </th> <td>   213.4</td>\n",
       "</tr>\n",
       "<tr>\n",
       "  <th>Date:</th>             <td>Tue, 28 Oct 2025</td> <th>  Prob (F-statistic):</th> <td>6.81e-32</td>\n",
       "</tr>\n",
       "<tr>\n",
       "  <th>Time:</th>                 <td>21:12:44</td>     <th>  Log-Likelihood:    </th> <td> -529.25</td>\n",
       "</tr>\n",
       "<tr>\n",
       "  <th>No. Observations:</th>      <td>   173</td>      <th>  AIC:               </th> <td>   1062.</td>\n",
       "</tr>\n",
       "<tr>\n",
       "  <th>Df Residuals:</th>          <td>   171</td>      <th>  BIC:               </th> <td>   1069.</td>\n",
       "</tr>\n",
       "<tr>\n",
       "  <th>Df Model:</th>              <td>     1</td>      <th>                     </th>     <td> </td>   \n",
       "</tr>\n",
       "<tr>\n",
       "  <th>Covariance Type:</th>      <td>nonrobust</td>    <th>                     </th>     <td> </td>   \n",
       "</tr>\n",
       "</table>\n",
       "<table class=\"simpletable\">\n",
       "<tr>\n",
       "        <td></td>          <th>coef</th>     <th>std err</th>      <th>t</th>      <th>P>|t|</th>  <th>[0.025</th>    <th>0.975]</th>  \n",
       "</tr>\n",
       "<tr>\n",
       "  <th>Intercept</th>    <td>   65.9499</td> <td>    0.549</td> <td>  120.225</td> <td> 0.000</td> <td>   64.867</td> <td>   67.033</td>\n",
       "</tr>\n",
       "<tr>\n",
       "  <th>GDP_thousand</th> <td>    0.2569</td> <td>    0.018</td> <td>   14.608</td> <td> 0.000</td> <td>    0.222</td> <td>    0.292</td>\n",
       "</tr>\n",
       "</table>\n",
       "<table class=\"simpletable\">\n",
       "<tr>\n",
       "  <th>Omnibus:</th>       <td>11.676</td> <th>  Durbin-Watson:     </th> <td>   1.887</td>\n",
       "</tr>\n",
       "<tr>\n",
       "  <th>Prob(Omnibus):</th> <td> 0.003</td> <th>  Jarque-Bera (JB):  </th> <td>  12.725</td>\n",
       "</tr>\n",
       "<tr>\n",
       "  <th>Skew:</th>          <td>-0.664</td> <th>  Prob(JB):          </th> <td> 0.00173</td>\n",
       "</tr>\n",
       "<tr>\n",
       "  <th>Kurtosis:</th>      <td> 2.946</td> <th>  Cond. No.          </th> <td>    43.4</td>\n",
       "</tr>\n",
       "</table><br/><br/>Notes:<br/>[1] Standard Errors assume that the covariance matrix of the errors is correctly specified."
      ],
      "text/latex": [
       "\\begin{center}\n",
       "\\begin{tabular}{lclc}\n",
       "\\toprule\n",
       "\\textbf{Dep. Variable:}    & Life\\_Expectancy & \\textbf{  R-squared:         } &     0.555   \\\\\n",
       "\\textbf{Model:}            &       OLS        & \\textbf{  Adj. R-squared:    } &     0.553   \\\\\n",
       "\\textbf{Method:}           &  Least Squares   & \\textbf{  F-statistic:       } &     213.4   \\\\\n",
       "\\textbf{Date:}             & Tue, 28 Oct 2025 & \\textbf{  Prob (F-statistic):} &  6.81e-32   \\\\\n",
       "\\textbf{Time:}             &     21:12:44     & \\textbf{  Log-Likelihood:    } &   -529.25   \\\\\n",
       "\\textbf{No. Observations:} &         173      & \\textbf{  AIC:               } &     1062.   \\\\\n",
       "\\textbf{Df Residuals:}     &         171      & \\textbf{  BIC:               } &     1069.   \\\\\n",
       "\\textbf{Df Model:}         &           1      & \\textbf{                     } &             \\\\\n",
       "\\textbf{Covariance Type:}  &    nonrobust     & \\textbf{                     } &             \\\\\n",
       "\\bottomrule\n",
       "\\end{tabular}\n",
       "\\begin{tabular}{lcccccc}\n",
       "                       & \\textbf{coef} & \\textbf{std err} & \\textbf{t} & \\textbf{P$> |$t$|$} & \\textbf{[0.025} & \\textbf{0.975]}  \\\\\n",
       "\\midrule\n",
       "\\textbf{Intercept}     &      65.9499  &        0.549     &   120.225  &         0.000        &       64.867    &       67.033     \\\\\n",
       "\\textbf{GDP\\_thousand} &       0.2569  &        0.018     &    14.608  &         0.000        &        0.222    &        0.292     \\\\\n",
       "\\bottomrule\n",
       "\\end{tabular}\n",
       "\\begin{tabular}{lclc}\n",
       "\\textbf{Omnibus:}       & 11.676 & \\textbf{  Durbin-Watson:     } &    1.887  \\\\\n",
       "\\textbf{Prob(Omnibus):} &  0.003 & \\textbf{  Jarque-Bera (JB):  } &   12.725  \\\\\n",
       "\\textbf{Skew:}          & -0.664 & \\textbf{  Prob(JB):          } &  0.00173  \\\\\n",
       "\\textbf{Kurtosis:}      &  2.946 & \\textbf{  Cond. No.          } &     43.4  \\\\\n",
       "\\bottomrule\n",
       "\\end{tabular}\n",
       "%\\caption{OLS Regression Results}\n",
       "\\end{center}\n",
       "\n",
       "Notes: \\newline\n",
       " [1] Standard Errors assume that the covariance matrix of the errors is correctly specified."
      ],
      "text/plain": [
       "<class 'statsmodels.iolib.summary.Summary'>\n",
       "\"\"\"\n",
       "                            OLS Regression Results                            \n",
       "==============================================================================\n",
       "Dep. Variable:        Life_Expectancy   R-squared:                       0.555\n",
       "Model:                            OLS   Adj. R-squared:                  0.553\n",
       "Method:                 Least Squares   F-statistic:                     213.4\n",
       "Date:                Tue, 28 Oct 2025   Prob (F-statistic):           6.81e-32\n",
       "Time:                        21:12:44   Log-Likelihood:                -529.25\n",
       "No. Observations:                 173   AIC:                             1062.\n",
       "Df Residuals:                     171   BIC:                             1069.\n",
       "Df Model:                           1                                         \n",
       "Covariance Type:            nonrobust                                         \n",
       "================================================================================\n",
       "                   coef    std err          t      P>|t|      [0.025      0.975]\n",
       "--------------------------------------------------------------------------------\n",
       "Intercept       65.9499      0.549    120.225      0.000      64.867      67.033\n",
       "GDP_thousand     0.2569      0.018     14.608      0.000       0.222       0.292\n",
       "==============================================================================\n",
       "Omnibus:                       11.676   Durbin-Watson:                   1.887\n",
       "Prob(Omnibus):                  0.003   Jarque-Bera (JB):               12.725\n",
       "Skew:                          -0.664   Prob(JB):                      0.00173\n",
       "Kurtosis:                       2.946   Cond. No.                         43.4\n",
       "==============================================================================\n",
       "\n",
       "Notes:\n",
       "[1] Standard Errors assume that the covariance matrix of the errors is correctly specified.\n",
       "\"\"\""
      ]
     },
     "execution_count": 17,
     "metadata": {},
     "output_type": "execute_result"
    }
   ],
   "source": [
    "model_21_thousand.summary()"
   ]
  },
  {
   "cell_type": "markdown",
   "id": "9862e081-5cb9-4970-af95-2098e6386cf9",
   "metadata": {},
   "source": [
    "**response** The coefficent is statistically significant in both models (calculating by thousands), since p value is 0 in both models"
   ]
  },
  {
   "cell_type": "markdown",
   "id": "940eff39-1897-46ec-b214-f282e0ccc6bd",
   "metadata": {},
   "source": [
    "### 2d. What does your model estimate for the mean life expectancy for a country whose gdp per capita is $50,000? What about one whose gdp per capita is $100,000? "
   ]
  },
  {
   "cell_type": "code",
   "execution_count": 18,
   "id": "1157e7c2-f5e8-4b91-97b2-b7a997fbeed6",
   "metadata": {},
   "outputs": [
    {
     "name": "stdout",
     "output_type": "stream",
     "text": [
      "The estimated life expectancy for a country whose GDP is 50000 = 78.79445724641319\n"
     ]
    }
   ],
   "source": [
    "est_val= 50000\n",
    "est_le= model_21.params['Intercept'] + model_21.params['GDP_Per_Capita']*est_val\n",
    "\n",
    "print(f'The estimated life expectancy for a country whose GDP is {est_val} = {est_le}')"
   ]
  },
  {
   "cell_type": "code",
   "execution_count": 19,
   "id": "693aee84-8b84-481d-a69c-be8e66483676",
   "metadata": {},
   "outputs": [
    {
     "name": "stdout",
     "output_type": "stream",
     "text": [
      "The estimated life expectancy for a country whose GDP is 100000 = 91.63904465544812\n"
     ]
    }
   ],
   "source": [
    "est_val= 100000\n",
    "est_le= model_21.params['Intercept'] + model_21.params['GDP_Per_Capita']*est_val\n",
    "\n",
    "print(f'The estimated life expectancy for a country whose GDP is {est_val} = {est_le}')"
   ]
  },
  {
   "cell_type": "markdown",
   "id": "2658ac82-e536-471e-bb5e-d40a04b0a80a",
   "metadata": {},
   "source": [
    "### 2e. Plot the actual values compared to your model's estimates for mean life expectancy. How would you assess the model's fit?"
   ]
  },
  {
   "cell_type": "code",
   "execution_count": 20,
   "id": "b11ab561-872f-4597-b5de-c2e290be6857",
   "metadata": {},
   "outputs": [
    {
     "name": "stderr",
     "output_type": "stream",
     "text": [
      "C:\\Users\\Mullo\\AppData\\Local\\Temp\\ipykernel_49300\\927332914.py:5: SettingWithCopyWarning: \n",
      "A value is trying to be set on a copy of a slice from a DataFrame.\n",
      "Try using .loc[row_indexer,col_indexer] = value instead\n",
      "\n",
      "See the caveats in the documentation: https://pandas.pydata.org/pandas-docs/stable/user_guide/indexing.html#returning-a-view-versus-a-copy\n",
      "  gdp_le_21['gdp_mean_est']= gdp_le_pred\n"
     ]
    },
    {
     "data": {
      "image/png": "[encoded data removed]",
      "text/plain": [
       "<Figure size 640x480 with 1 Axes>"
      ]
     },
     "metadata": {},
     "output_type": "display_data"
    }
   ],
   "source": [
    "###Make a predictive model \n",
    "gdp_le_pred= model_21.predict(gdp_le_21)\n",
    "\n",
    "#Add the predicted mean values into main dataframe \n",
    "gdp_le_21['gdp_mean_est']= gdp_le_pred\n",
    "\n",
    "#Make a scatterplot of the actual GDP_captia and life expectancy values \n",
    "fig, ax= plt.subplots()\n",
    "ax.scatter(gdp_le_21['GDP_Per_Capita'], gdp_le_21['Life_Expectancy']); \n",
    "ax.plot(gdp_le_21['GDP_Per_Capita'],  gdp_le_21['gdp_mean_est'], color='red');\n",
    "ax.set_title('Linear regression between Life Expectancy and GDP Per Capita');\n",
    "ax.set_ylabel('life expectancy');\n",
    "ax.set_xlabel('GDP per capita');"
   ]
  },
  {
   "cell_type": "code",
   "execution_count": 21,
   "id": "2899064f-3733-48a5-8d02-6dc2bfab9921",
   "metadata": {},
   "outputs": [
    {
     "data": {
      "text/plain": [
       "0.5551460546913908"
      ]
     },
     "execution_count": 21,
     "metadata": {},
     "output_type": "execute_result"
    }
   ],
   "source": [
    "model_21.rsquared"
   ]
  },
  {
   "cell_type": "markdown",
   "id": "396e915b-4313-4cfb-aac6-6a4feb032ba7",
   "metadata": {},
   "source": [
    "**reponse** The model fit based on the rsquared value is 0.55, suggesting that it is not a good fit. The graph visual shows that the predictd means does not follow the actual data distribution, since much of the points are either over or under estimated (above or below the line). The distribution from the scatter points does not look linear, so likely the model needs to account for the non-linear distribution of the datapoints."
   ]
  },
  {
   "cell_type": "markdown",
   "id": "132e4640-e981-402d-b95f-3c2f3e7b7a8c",
   "metadata": {},
   "source": [
    "-------------"
   ]
  },
  {
   "cell_type": "markdown",
   "id": "9d4c521a-60db-4a3e-adfe-d72b81dd539d",
   "metadata": {},
   "source": [
    "## 3. Now, fit a model for life expectancy based on the log of gdp per capita."
   ]
  },
  {
   "cell_type": "code",
   "execution_count": 22,
   "id": "20eb6577-44b0-4640-83f3-83115869aca4",
   "metadata": {},
   "outputs": [
    {
     "name": "stderr",
     "output_type": "stream",
     "text": [
      "C:\\Users\\Mullo\\AppData\\Local\\Temp\\ipykernel_49300\\1371268647.py:2: SettingWithCopyWarning: \n",
      "A value is trying to be set on a copy of a slice from a DataFrame.\n",
      "Try using .loc[row_indexer,col_indexer] = value instead\n",
      "\n",
      "See the caveats in the documentation: https://pandas.pydata.org/pandas-docs/stable/user_guide/indexing.html#returning-a-view-versus-a-copy\n",
      "  gdp_le_21['log_GDP']= np.log(gdp_le_21['GDP_Per_Capita'])\n"
     ]
    }
   ],
   "source": [
    "#Assuming based on 2021 data- make a column for the log calculation\n",
    "gdp_le_21['log_GDP']= np.log(gdp_le_21['GDP_Per_Capita'])\n",
    "gdp_le_21\n",
    "\n",
    "#Create a new model \n",
    "model_21_log= smf.ols(\"Life_Expectancy ~ log_GDP\", data=gdp_le_21).fit()"
   ]
  },
  {
   "cell_type": "code",
   "execution_count": 31,
   "id": "4a58b2fc-cb08-4467-8c26-0fbcadca26c8",
   "metadata": {},
   "outputs": [
    {
     "data": {
      "text/plain": [
       "Intercept                    18.946970\n",
       "I(np.log(GDP_Per_Capita))     5.589014\n",
       "dtype: float64"
      ]
     },
     "execution_count": 31,
     "metadata": {},
     "output_type": "execute_result"
    }
   ],
   "source": [
    "### Patsy version \n",
    "#Create a new model \n",
    "model_21_log_patsy= smf.ols(\"Life_Expectancy ~ I(np.log(GDP_Per_Capita))\", data=gdp_le_21).fit()\n",
    "model_21_log_patsy.params"
   ]
  },
  {
   "cell_type": "markdown",
   "id": "3381efe8-1703-47c5-a87f-b2097a2f53cf",
   "metadata": {},
   "source": [
    "### 3a. Inspect the coefficients for this model. Are they statistically significant?"
   ]
  },
  {
   "cell_type": "code",
   "execution_count": 23,
   "id": "972c291b-e6ee-4ef0-8362-a15f232984c7",
   "metadata": {},
   "outputs": [
    {
     "data": {
      "text/plain": [
       "Intercept    18.946970\n",
       "log_GDP       5.589014\n",
       "dtype: float64"
      ]
     },
     "execution_count": 23,
     "metadata": {},
     "output_type": "execute_result"
    }
   ],
   "source": [
    "model_21_log.params"
   ]
  },
  {
   "cell_type": "code",
   "execution_count": 24,
   "id": "5adf44ba-f35d-430a-ba57-3d0adde7eb66",
   "metadata": {},
   "outputs": [
    {
     "data": {
      "text/html": [
       "<table class=\"simpletable\">\n",
       "<caption>OLS Regression Results</caption>\n",
       "<tr>\n",
       "  <th>Dep. Variable:</th>     <td>Life_Expectancy</td> <th>  R-squared:         </th> <td>   0.717</td>\n",
       "</tr>\n",
       "<tr>\n",
       "  <th>Model:</th>                   <td>OLS</td>       <th>  Adj. R-squared:    </th> <td>   0.715</td>\n",
       "</tr>\n",
       "<tr>\n",
       "  <th>Method:</th>             <td>Least Squares</td>  <th>  F-statistic:       </th> <td>   432.6</td>\n",
       "</tr>\n",
       "<tr>\n",
       "  <th>Date:</th>             <td>Tue, 28 Oct 2025</td> <th>  Prob (F-statistic):</th> <td>1.06e-48</td>\n",
       "</tr>\n",
       "<tr>\n",
       "  <th>Time:</th>                 <td>21:12:44</td>     <th>  Log-Likelihood:    </th> <td> -490.22</td>\n",
       "</tr>\n",
       "<tr>\n",
       "  <th>No. Observations:</th>      <td>   173</td>      <th>  AIC:               </th> <td>   984.4</td>\n",
       "</tr>\n",
       "<tr>\n",
       "  <th>Df Residuals:</th>          <td>   171</td>      <th>  BIC:               </th> <td>   990.7</td>\n",
       "</tr>\n",
       "<tr>\n",
       "  <th>Df Model:</th>              <td>     1</td>      <th>                     </th>     <td> </td>   \n",
       "</tr>\n",
       "<tr>\n",
       "  <th>Covariance Type:</th>      <td>nonrobust</td>    <th>                     </th>     <td> </td>   \n",
       "</tr>\n",
       "</table>\n",
       "<table class=\"simpletable\">\n",
       "<tr>\n",
       "      <td></td>         <th>coef</th>     <th>std err</th>      <th>t</th>      <th>P>|t|</th>  <th>[0.025</th>    <th>0.975]</th>  \n",
       "</tr>\n",
       "<tr>\n",
       "  <th>Intercept</th> <td>   18.9470</td> <td>    2.547</td> <td>    7.438</td> <td> 0.000</td> <td>   13.919</td> <td>   23.975</td>\n",
       "</tr>\n",
       "<tr>\n",
       "  <th>log_GDP</th>   <td>    5.5890</td> <td>    0.269</td> <td>   20.798</td> <td> 0.000</td> <td>    5.059</td> <td>    6.119</td>\n",
       "</tr>\n",
       "</table>\n",
       "<table class=\"simpletable\">\n",
       "<tr>\n",
       "  <th>Omnibus:</th>       <td>16.862</td> <th>  Durbin-Watson:     </th> <td>   1.974</td>\n",
       "</tr>\n",
       "<tr>\n",
       "  <th>Prob(Omnibus):</th> <td> 0.000</td> <th>  Jarque-Bera (JB):  </th> <td>  18.922</td>\n",
       "</tr>\n",
       "<tr>\n",
       "  <th>Skew:</th>          <td>-0.725</td> <th>  Prob(JB):          </th> <td>7.78e-05</td>\n",
       "</tr>\n",
       "<tr>\n",
       "  <th>Kurtosis:</th>      <td> 3.725</td> <th>  Cond. No.          </th> <td>    77.6</td>\n",
       "</tr>\n",
       "</table><br/><br/>Notes:<br/>[1] Standard Errors assume that the covariance matrix of the errors is correctly specified."
      ],
      "text/latex": [
       "\\begin{center}\n",
       "\\begin{tabular}{lclc}\n",
       "\\toprule\n",
       "\\textbf{Dep. Variable:}    & Life\\_Expectancy & \\textbf{  R-squared:         } &     0.717   \\\\\n",
       "\\textbf{Model:}            &       OLS        & \\textbf{  Adj. R-squared:    } &     0.715   \\\\\n",
       "\\textbf{Method:}           &  Least Squares   & \\textbf{  F-statistic:       } &     432.6   \\\\\n",
       "\\textbf{Date:}             & Tue, 28 Oct 2025 & \\textbf{  Prob (F-statistic):} &  1.06e-48   \\\\\n",
       "\\textbf{Time:}             &     21:12:44     & \\textbf{  Log-Likelihood:    } &   -490.22   \\\\\n",
       "\\textbf{No. Observations:} &         173      & \\textbf{  AIC:               } &     984.4   \\\\\n",
       "\\textbf{Df Residuals:}     &         171      & \\textbf{  BIC:               } &     990.7   \\\\\n",
       "\\textbf{Df Model:}         &           1      & \\textbf{                     } &             \\\\\n",
       "\\textbf{Covariance Type:}  &    nonrobust     & \\textbf{                     } &             \\\\\n",
       "\\bottomrule\n",
       "\\end{tabular}\n",
       "\\begin{tabular}{lcccccc}\n",
       "                   & \\textbf{coef} & \\textbf{std err} & \\textbf{t} & \\textbf{P$> |$t$|$} & \\textbf{[0.025} & \\textbf{0.975]}  \\\\\n",
       "\\midrule\n",
       "\\textbf{Intercept} &      18.9470  &        2.547     &     7.438  &         0.000        &       13.919    &       23.975     \\\\\n",
       "\\textbf{log\\_GDP}  &       5.5890  &        0.269     &    20.798  &         0.000        &        5.059    &        6.119     \\\\\n",
       "\\bottomrule\n",
       "\\end{tabular}\n",
       "\\begin{tabular}{lclc}\n",
       "\\textbf{Omnibus:}       & 16.862 & \\textbf{  Durbin-Watson:     } &    1.974  \\\\\n",
       "\\textbf{Prob(Omnibus):} &  0.000 & \\textbf{  Jarque-Bera (JB):  } &   18.922  \\\\\n",
       "\\textbf{Skew:}          & -0.725 & \\textbf{  Prob(JB):          } & 7.78e-05  \\\\\n",
       "\\textbf{Kurtosis:}      &  3.725 & \\textbf{  Cond. No.          } &     77.6  \\\\\n",
       "\\bottomrule\n",
       "\\end{tabular}\n",
       "%\\caption{OLS Regression Results}\n",
       "\\end{center}\n",
       "\n",
       "Notes: \\newline\n",
       " [1] Standard Errors assume that the covariance matrix of the errors is correctly specified."
      ],
      "text/plain": [
       "<class 'statsmodels.iolib.summary.Summary'>\n",
       "\"\"\"\n",
       "                            OLS Regression Results                            \n",
       "==============================================================================\n",
       "Dep. Variable:        Life_Expectancy   R-squared:                       0.717\n",
       "Model:                            OLS   Adj. R-squared:                  0.715\n",
       "Method:                 Least Squares   F-statistic:                     432.6\n",
       "Date:                Tue, 28 Oct 2025   Prob (F-statistic):           1.06e-48\n",
       "Time:                        21:12:44   Log-Likelihood:                -490.22\n",
       "No. Observations:                 173   AIC:                             984.4\n",
       "Df Residuals:                     171   BIC:                             990.7\n",
       "Df Model:                           1                                         \n",
       "Covariance Type:            nonrobust                                         \n",
       "==============================================================================\n",
       "                 coef    std err          t      P>|t|      [0.025      0.975]\n",
       "------------------------------------------------------------------------------\n",
       "Intercept     18.9470      2.547      7.438      0.000      13.919      23.975\n",
       "log_GDP        5.5890      0.269     20.798      0.000       5.059       6.119\n",
       "==============================================================================\n",
       "Omnibus:                       16.862   Durbin-Watson:                   1.974\n",
       "Prob(Omnibus):                  0.000   Jarque-Bera (JB):               18.922\n",
       "Skew:                          -0.725   Prob(JB):                     7.78e-05\n",
       "Kurtosis:                       3.725   Cond. No.                         77.6\n",
       "==============================================================================\n",
       "\n",
       "Notes:\n",
       "[1] Standard Errors assume that the covariance matrix of the errors is correctly specified.\n",
       "\"\"\""
      ]
     },
     "execution_count": 24,
     "metadata": {},
     "output_type": "execute_result"
    }
   ],
   "source": [
    "model_21_log.summary()"
   ]
  },
  {
   "cell_type": "markdown",
   "id": "f1f8c13e-606e-443f-8688-0323b328dc6b",
   "metadata": {},
   "source": [
    "**response** The coefficent for log GDP is 5.58, which means that every log dollar GDP increases life expectancy by 5.58 years. This is statistically significant, with a pvalue of 0. "
   ]
  },
  {
   "cell_type": "markdown",
   "id": "cebf8194-5777-45d9-afda-e6a72d3e015e",
   "metadata": {},
   "source": [
    "### 3b. Interpret these coefficients. What does the model estimate for the average life expectancy for countries with a gdp per capita of $50,000? What about for those with a gdp per capita of $100,000? "
   ]
  },
  {
   "cell_type": "code",
   "execution_count": 25,
   "id": "85e841c7-1d73-4318-ad1c-d5a11354c83d",
   "metadata": {},
   "outputs": [
    {
     "name": "stdout",
     "output_type": "stream",
     "text": [
      "The estimated life expectancy for a country whose GDP is 10.819778284410283 = 79.41886072606525\n"
     ]
    }
   ],
   "source": [
    "est_val= np.log(50000)\n",
    "est_le= model_21_log.params['Intercept'] + (model_21_log.params['log_GDP']*est_val)\n",
    "\n",
    "print(f'The estimated life expectancy for a country whose GDP is {est_val} = {est_le}')"
   ]
  },
  {
   "cell_type": "code",
   "execution_count": 26,
   "id": "ee1b1641-0efb-4e0c-b912-efdc1f028117",
   "metadata": {},
   "outputs": [
    {
     "name": "stdout",
     "output_type": "stream",
     "text": [
      "The estimated life expectancy for a country whose GDP is 11.512925464970229 = 83.29286991695193\n"
     ]
    }
   ],
   "source": [
    "est_val= np.log(100000)\n",
    "est_le= model_21_log.params['Intercept'] +model_21_log.params['log_GDP']*est_val\n",
    "\n",
    "print(f'The estimated life expectancy for a country whose GDP is {est_val} = {est_le}')"
   ]
  },
  {
   "cell_type": "markdown",
   "id": "b31b9086-9edd-4ded-9a2a-f3a48ea32db3",
   "metadata": {},
   "source": [
    "### 3c. Plot the actual values compared to your models' estimates for the mean life expectancy. How does this compare to the non-logged method?"
   ]
  },
  {
   "cell_type": "code",
   "execution_count": 27,
   "id": "0fb2cbc3-b1ca-432b-a3ed-3a14eafe938d",
   "metadata": {},
   "outputs": [
    {
     "name": "stdout",
     "output_type": "stream",
     "text": [
      "The rsquared value from the log model is 0.7166891962983926\n"
     ]
    },
    {
     "data": {
      "image/png": "[encoded data removed]",
      "text/plain": [
       "<Figure size 640x480 with 1 Axes>"
      ]
     },
     "metadata": {},
     "output_type": "display_data"
    }
   ],
   "source": [
    "#plot the actual values for mean life expectancy \n",
    "plt.scatter(x= gdp_le_21['log_GDP'], y= gdp_le_21['Life_Expectancy'])\n",
    "plt.xlabel('GDP per capita (log)')\n",
    "plt.ylabel('Life expectancy')\n",
    "\n",
    "#create a prediction line from the log model \n",
    "gdp_le_log_pred= model_21_log.predict(gdp_le_21)\n",
    "#graph the line \n",
    "plt.plot(gdp_le_21['log_GDP'], gdp_le_log_pred, linestyle='--', color='red')\n",
    "\n",
    "#calculate the rsquared value\n",
    "log_rs=model_21_log.rsquared\n",
    "print(f'The rsquared value from the log model is {log_rs}')"
   ]
  },
  {
   "cell_type": "code",
   "execution_count": null,
   "id": "c76a4c62-2d87-4307-9149-353b0d1aca6e",
   "metadata": {},
   "outputs": [],
   "source": [
    "# ##Michael code for visual \n",
    "# est_df = pd.DataFrame({'GDP_Per_Capita': np.linspace(gdp_le_2021['GDP_Per_Capita'].min(), gdp_le_2021['GDP_Per_Capita'].max())})\n",
    "# est_df['Estimated_Mean'] = lr_le_log_gdp.predict(est_df)\n",
    "\n",
    "# fig, ax = plt.subplots()\n",
    "# gdp_le_2021.plot(kind=\"scatter\", x='GDP_Per_Capita', y='Life_Expectancy', ax=ax)\n",
    "# est_df.plot(x='GDP_Per_Capita', y='Estimated_Mean', ax=ax, color=\"black\");"
   ]
  },
  {
   "cell_type": "markdown",
   "id": "6fc4b207-cca7-4950-9689-d286e214fb48",
   "metadata": {},
   "source": [
    "**response** The rsqaured value for the non-log trained model was 0.555, whereas the log trained model rsquared value is 0.716. Therefore the log transformed data is a more accurate model, since it is closer to 1 (meaning the model has no residuals, and therefore is an accurate fit)"
   ]
  },
  {
   "cell_type": "markdown",
   "id": "5739e969-dda9-4b1e-89af-442dbb6ac5be",
   "metadata": {},
   "source": [
    "-----"
   ]
  },
  {
   "cell_type": "markdown",
   "id": "56d11158-b0ef-4c7f-9176-f6e2dfe8f022",
   "metadata": {},
   "source": [
    "## 4. Finally, return to the full dataset."
   ]
  },
  {
   "cell_type": "code",
   "execution_count": 28,
   "id": "f45cfc11-e69d-43c6-8744-88b3069b554e",
   "metadata": {},
   "outputs": [
    {
     "data": {
      "text/html": [
       "<div>\n",
       "<style scoped>\n",
       "    .dataframe tbody tr th:only-of-type {\n",
       "        vertical-align: middle;\n",
       "    }\n",
       "\n",
       "    .dataframe tbody tr th {\n",
       "        vertical-align: top;\n",
       "    }\n",
       "\n",
       "    .dataframe thead th {\n",
       "        text-align: right;\n",
       "    }\n",
       "</style>\n",
       "<table border=\"1\" class=\"dataframe\">\n",
       "  <thead>\n",
       "    <tr style=\"text-align: right;\">\n",
       "      <th></th>\n",
       "      <th>Country</th>\n",
       "      <th>Year</th>\n",
       "      <th>GDP_Per_Capita</th>\n",
       "      <th>Continent</th>\n",
       "      <th>Life_Expectancy</th>\n",
       "      <th>year_since_1990</th>\n",
       "      <th>mean_estimate</th>\n",
       "    </tr>\n",
       "  </thead>\n",
       "  <tbody>\n",
       "    <tr>\n",
       "      <th>0</th>\n",
       "      <td>Afghanistan</td>\n",
       "      <td>2021</td>\n",
       "      <td>1517.016266</td>\n",
       "      <td>Asia</td>\n",
       "      <td>61.982</td>\n",
       "      <td>31</td>\n",
       "      <td>72.928275</td>\n",
       "    </tr>\n",
       "    <tr>\n",
       "      <th>1</th>\n",
       "      <td>Afghanistan</td>\n",
       "      <td>2020</td>\n",
       "      <td>1968.341002</td>\n",
       "      <td>Asia</td>\n",
       "      <td>62.575</td>\n",
       "      <td>30</td>\n",
       "      <td>72.660553</td>\n",
       "    </tr>\n",
       "    <tr>\n",
       "      <th>2</th>\n",
       "      <td>Afghanistan</td>\n",
       "      <td>2019</td>\n",
       "      <td>2079.921861</td>\n",
       "      <td>Asia</td>\n",
       "      <td>63.565</td>\n",
       "      <td>29</td>\n",
       "      <td>72.392831</td>\n",
       "    </tr>\n",
       "    <tr>\n",
       "      <th>3</th>\n",
       "      <td>Afghanistan</td>\n",
       "      <td>2018</td>\n",
       "      <td>2060.698973</td>\n",
       "      <td>Asia</td>\n",
       "      <td>63.081</td>\n",
       "      <td>28</td>\n",
       "      <td>72.125109</td>\n",
       "    </tr>\n",
       "    <tr>\n",
       "      <th>4</th>\n",
       "      <td>Afghanistan</td>\n",
       "      <td>2017</td>\n",
       "      <td>2096.093111</td>\n",
       "      <td>Asia</td>\n",
       "      <td>63.016</td>\n",
       "      <td>27</td>\n",
       "      <td>71.857387</td>\n",
       "    </tr>\n",
       "  </tbody>\n",
       "</table>\n",
       "</div>"
      ],
      "text/plain": [
       "       Country  Year  GDP_Per_Capita Continent  Life_Expectancy  \\\n",
       "0  Afghanistan  2021     1517.016266      Asia           61.982   \n",
       "1  Afghanistan  2020     1968.341002      Asia           62.575   \n",
       "2  Afghanistan  2019     2079.921861      Asia           63.565   \n",
       "3  Afghanistan  2018     2060.698973      Asia           63.081   \n",
       "4  Afghanistan  2017     2096.093111      Asia           63.016   \n",
       "\n",
       "   year_since_1990  mean_estimate  \n",
       "0               31      72.928275  \n",
       "1               30      72.660553  \n",
       "2               29      72.392831  \n",
       "3               28      72.125109  \n",
       "4               27      71.857387  "
      ]
     },
     "execution_count": 28,
     "metadata": {},
     "output_type": "execute_result"
    }
   ],
   "source": [
    "gdp_le.head()"
   ]
  },
  {
   "cell_type": "markdown",
   "id": "e4af7a76-c2d3-416f-be46-de6d7952a681",
   "metadata": {},
   "source": [
    "### 4a. First, fit a linear regression model for life expectancy based on the log of gdp per capita."
   ]
  },
  {
   "cell_type": "code",
   "execution_count": 29,
   "id": "4badda22-873a-4d23-9e1d-30b1a43a9e7e",
   "metadata": {},
   "outputs": [
    {
     "data": {
      "text/html": [
       "<table class=\"simpletable\">\n",
       "<caption>OLS Regression Results</caption>\n",
       "<tr>\n",
       "  <th>Dep. Variable:</th>     <td>Life_Expectancy</td> <th>  R-squared:         </th> <td>   0.701</td> \n",
       "</tr>\n",
       "<tr>\n",
       "  <th>Model:</th>                   <td>OLS</td>       <th>  Adj. R-squared:    </th> <td>   0.701</td> \n",
       "</tr>\n",
       "<tr>\n",
       "  <th>Method:</th>             <td>Least Squares</td>  <th>  F-statistic:       </th> <td>1.288e+04</td>\n",
       "</tr>\n",
       "<tr>\n",
       "  <th>Date:</th>             <td>Tue, 28 Oct 2025</td> <th>  Prob (F-statistic):</th>  <td>  0.00</td>  \n",
       "</tr>\n",
       "<tr>\n",
       "  <th>Time:</th>                 <td>21:12:45</td>     <th>  Log-Likelihood:    </th> <td> -16834.</td> \n",
       "</tr>\n",
       "<tr>\n",
       "  <th>No. Observations:</th>      <td>  5504</td>      <th>  AIC:               </th> <td>3.367e+04</td>\n",
       "</tr>\n",
       "<tr>\n",
       "  <th>Df Residuals:</th>          <td>  5502</td>      <th>  BIC:               </th> <td>3.369e+04</td>\n",
       "</tr>\n",
       "<tr>\n",
       "  <th>Df Model:</th>              <td>     1</td>      <th>                     </th>     <td> </td>    \n",
       "</tr>\n",
       "<tr>\n",
       "  <th>Covariance Type:</th>      <td>nonrobust</td>    <th>                     </th>     <td> </td>    \n",
       "</tr>\n",
       "</table>\n",
       "<table class=\"simpletable\">\n",
       "<tr>\n",
       "      <td></td>         <th>coef</th>     <th>std err</th>      <th>t</th>      <th>P>|t|</th>  <th>[0.025</th>    <th>0.975]</th>  \n",
       "</tr>\n",
       "<tr>\n",
       "  <th>Intercept</th> <td>    9.1941</td> <td>    0.532</td> <td>   17.297</td> <td> 0.000</td> <td>    8.152</td> <td>   10.236</td>\n",
       "</tr>\n",
       "<tr>\n",
       "  <th>log_GDP</th>   <td>    6.5311</td> <td>    0.058</td> <td>  113.506</td> <td> 0.000</td> <td>    6.418</td> <td>    6.644</td>\n",
       "</tr>\n",
       "</table>\n",
       "<table class=\"simpletable\">\n",
       "<tr>\n",
       "  <th>Omnibus:</th>       <td>1066.762</td> <th>  Durbin-Watson:     </th> <td>   0.096</td>\n",
       "</tr>\n",
       "<tr>\n",
       "  <th>Prob(Omnibus):</th>  <td> 0.000</td>  <th>  Jarque-Bera (JB):  </th> <td>2391.301</td>\n",
       "</tr>\n",
       "<tr>\n",
       "  <th>Skew:</th>           <td>-1.108</td>  <th>  Prob(JB):          </th> <td>    0.00</td>\n",
       "</tr>\n",
       "<tr>\n",
       "  <th>Kurtosis:</th>       <td> 5.349</td>  <th>  Cond. No.          </th> <td>    71.5</td>\n",
       "</tr>\n",
       "</table><br/><br/>Notes:<br/>[1] Standard Errors assume that the covariance matrix of the errors is correctly specified."
      ],
      "text/latex": [
       "\\begin{center}\n",
       "\\begin{tabular}{lclc}\n",
       "\\toprule\n",
       "\\textbf{Dep. Variable:}    & Life\\_Expectancy & \\textbf{  R-squared:         } &     0.701   \\\\\n",
       "\\textbf{Model:}            &       OLS        & \\textbf{  Adj. R-squared:    } &     0.701   \\\\\n",
       "\\textbf{Method:}           &  Least Squares   & \\textbf{  F-statistic:       } & 1.288e+04   \\\\\n",
       "\\textbf{Date:}             & Tue, 28 Oct 2025 & \\textbf{  Prob (F-statistic):} &     0.00    \\\\\n",
       "\\textbf{Time:}             &     21:12:45     & \\textbf{  Log-Likelihood:    } &   -16834.   \\\\\n",
       "\\textbf{No. Observations:} &        5504      & \\textbf{  AIC:               } & 3.367e+04   \\\\\n",
       "\\textbf{Df Residuals:}     &        5502      & \\textbf{  BIC:               } & 3.369e+04   \\\\\n",
       "\\textbf{Df Model:}         &           1      & \\textbf{                     } &             \\\\\n",
       "\\textbf{Covariance Type:}  &    nonrobust     & \\textbf{                     } &             \\\\\n",
       "\\bottomrule\n",
       "\\end{tabular}\n",
       "\\begin{tabular}{lcccccc}\n",
       "                   & \\textbf{coef} & \\textbf{std err} & \\textbf{t} & \\textbf{P$> |$t$|$} & \\textbf{[0.025} & \\textbf{0.975]}  \\\\\n",
       "\\midrule\n",
       "\\textbf{Intercept} &       9.1941  &        0.532     &    17.297  &         0.000        &        8.152    &       10.236     \\\\\n",
       "\\textbf{log\\_GDP}  &       6.5311  &        0.058     &   113.506  &         0.000        &        6.418    &        6.644     \\\\\n",
       "\\bottomrule\n",
       "\\end{tabular}\n",
       "\\begin{tabular}{lclc}\n",
       "\\textbf{Omnibus:}       & 1066.762 & \\textbf{  Durbin-Watson:     } &    0.096  \\\\\n",
       "\\textbf{Prob(Omnibus):} &   0.000  & \\textbf{  Jarque-Bera (JB):  } & 2391.301  \\\\\n",
       "\\textbf{Skew:}          &  -1.108  & \\textbf{  Prob(JB):          } &     0.00  \\\\\n",
       "\\textbf{Kurtosis:}      &   5.349  & \\textbf{  Cond. No.          } &     71.5  \\\\\n",
       "\\bottomrule\n",
       "\\end{tabular}\n",
       "%\\caption{OLS Regression Results}\n",
       "\\end{center}\n",
       "\n",
       "Notes: \\newline\n",
       " [1] Standard Errors assume that the covariance matrix of the errors is correctly specified."
      ],
      "text/plain": [
       "<class 'statsmodels.iolib.summary.Summary'>\n",
       "\"\"\"\n",
       "                            OLS Regression Results                            \n",
       "==============================================================================\n",
       "Dep. Variable:        Life_Expectancy   R-squared:                       0.701\n",
       "Model:                            OLS   Adj. R-squared:                  0.701\n",
       "Method:                 Least Squares   F-statistic:                 1.288e+04\n",
       "Date:                Tue, 28 Oct 2025   Prob (F-statistic):               0.00\n",
       "Time:                        21:12:45   Log-Likelihood:                -16834.\n",
       "No. Observations:                5504   AIC:                         3.367e+04\n",
       "Df Residuals:                    5502   BIC:                         3.369e+04\n",
       "Df Model:                           1                                         \n",
       "Covariance Type:            nonrobust                                         \n",
       "==============================================================================\n",
       "                 coef    std err          t      P>|t|      [0.025      0.975]\n",
       "------------------------------------------------------------------------------\n",
       "Intercept      9.1941      0.532     17.297      0.000       8.152      10.236\n",
       "log_GDP        6.5311      0.058    113.506      0.000       6.418       6.644\n",
       "==============================================================================\n",
       "Omnibus:                     1066.762   Durbin-Watson:                   0.096\n",
       "Prob(Omnibus):                  0.000   Jarque-Bera (JB):             2391.301\n",
       "Skew:                          -1.108   Prob(JB):                         0.00\n",
       "Kurtosis:                       5.349   Cond. No.                         71.5\n",
       "==============================================================================\n",
       "\n",
       "Notes:\n",
       "[1] Standard Errors assume that the covariance matrix of the errors is correctly specified.\n",
       "\"\"\""
      ]
     },
     "execution_count": 29,
     "metadata": {},
     "output_type": "execute_result"
    }
   ],
   "source": [
    "#create a log GDP per capita for the whole dataset \n",
    "gdp_le['log_GDP']= np.log(gdp_le['GDP_Per_Capita'])\n",
    "gdp_le\n",
    "\n",
    "#create the linear model \n",
    "gdp_log_model = smf.ols(\"Life_Expectancy ~ log_GDP\", data=gdp_le).fit()\n",
    "gdp_log_model.summary()"
   ]
  },
  {
   "cell_type": "markdown",
   "id": "824abfb7-d732-4623-aedf-9fb84f979be3",
   "metadata": {},
   "source": [
    "### 4b. Then, add the year variable to your model. How can you interpret the coefficient associated with year? What limitations or weaknesses might this model have?"
   ]
  },
  {
   "cell_type": "code",
   "execution_count": 30,
   "id": "6e888692-c7ae-4d0d-936b-8a8a8e33e74b",
   "metadata": {},
   "outputs": [
    {
     "data": {
      "text/html": [
       "<table class=\"simpletable\">\n",
       "<caption>OLS Regression Results</caption>\n",
       "<tr>\n",
       "  <th>Dep. Variable:</th>     <td>Life_Expectancy</td> <th>  R-squared:         </th> <td>   0.718</td> \n",
       "</tr>\n",
       "<tr>\n",
       "  <th>Model:</th>                   <td>OLS</td>       <th>  Adj. R-squared:    </th> <td>   0.718</td> \n",
       "</tr>\n",
       "<tr>\n",
       "  <th>Method:</th>             <td>Least Squares</td>  <th>  F-statistic:       </th> <td>   7014.</td> \n",
       "</tr>\n",
       "<tr>\n",
       "  <th>Date:</th>             <td>Tue, 28 Oct 2025</td> <th>  Prob (F-statistic):</th>  <td>  0.00</td>  \n",
       "</tr>\n",
       "<tr>\n",
       "  <th>Time:</th>                 <td>21:12:45</td>     <th>  Log-Likelihood:    </th> <td> -16668.</td> \n",
       "</tr>\n",
       "<tr>\n",
       "  <th>No. Observations:</th>      <td>  5504</td>      <th>  AIC:               </th> <td>3.334e+04</td>\n",
       "</tr>\n",
       "<tr>\n",
       "  <th>Df Residuals:</th>          <td>  5501</td>      <th>  BIC:               </th> <td>3.336e+04</td>\n",
       "</tr>\n",
       "<tr>\n",
       "  <th>Df Model:</th>              <td>     2</td>      <th>                     </th>     <td> </td>    \n",
       "</tr>\n",
       "<tr>\n",
       "  <th>Covariance Type:</th>      <td>nonrobust</td>    <th>                     </th>     <td> </td>    \n",
       "</tr>\n",
       "</table>\n",
       "<table class=\"simpletable\">\n",
       "<tr>\n",
       "      <td></td>         <th>coef</th>     <th>std err</th>      <th>t</th>      <th>P>|t|</th>  <th>[0.025</th>    <th>0.975]</th>  \n",
       "</tr>\n",
       "<tr>\n",
       "  <th>Intercept</th> <td> -259.0674</td> <td>   14.490</td> <td>  -17.879</td> <td> 0.000</td> <td> -287.474</td> <td> -230.661</td>\n",
       "</tr>\n",
       "<tr>\n",
       "  <th>log_GDP</th>   <td>    6.3599</td> <td>    0.057</td> <td>  112.387</td> <td> 0.000</td> <td>    6.249</td> <td>    6.471</td>\n",
       "</tr>\n",
       "<tr>\n",
       "  <th>Year</th>      <td>    0.1345</td> <td>    0.007</td> <td>   18.525</td> <td> 0.000</td> <td>    0.120</td> <td>    0.149</td>\n",
       "</tr>\n",
       "</table>\n",
       "<table class=\"simpletable\">\n",
       "<tr>\n",
       "  <th>Omnibus:</th>       <td>1096.440</td> <th>  Durbin-Watson:     </th> <td>   0.088</td>\n",
       "</tr>\n",
       "<tr>\n",
       "  <th>Prob(Omnibus):</th>  <td> 0.000</td>  <th>  Jarque-Bera (JB):  </th> <td>2582.760</td>\n",
       "</tr>\n",
       "<tr>\n",
       "  <th>Skew:</th>           <td>-1.116</td>  <th>  Prob(JB):          </th> <td>    0.00</td>\n",
       "</tr>\n",
       "<tr>\n",
       "  <th>Kurtosis:</th>       <td> 5.506</td>  <th>  Cond. No.          </th> <td>4.31e+05</td>\n",
       "</tr>\n",
       "</table><br/><br/>Notes:<br/>[1] Standard Errors assume that the covariance matrix of the errors is correctly specified.<br/>[2] The condition number is large, 4.31e+05. This might indicate that there are<br/>strong multicollinearity or other numerical problems."
      ],
      "text/latex": [
       "\\begin{center}\n",
       "\\begin{tabular}{lclc}\n",
       "\\toprule\n",
       "\\textbf{Dep. Variable:}    & Life\\_Expectancy & \\textbf{  R-squared:         } &     0.718   \\\\\n",
       "\\textbf{Model:}            &       OLS        & \\textbf{  Adj. R-squared:    } &     0.718   \\\\\n",
       "\\textbf{Method:}           &  Least Squares   & \\textbf{  F-statistic:       } &     7014.   \\\\\n",
       "\\textbf{Date:}             & Tue, 28 Oct 2025 & \\textbf{  Prob (F-statistic):} &     0.00    \\\\\n",
       "\\textbf{Time:}             &     21:12:45     & \\textbf{  Log-Likelihood:    } &   -16668.   \\\\\n",
       "\\textbf{No. Observations:} &        5504      & \\textbf{  AIC:               } & 3.334e+04   \\\\\n",
       "\\textbf{Df Residuals:}     &        5501      & \\textbf{  BIC:               } & 3.336e+04   \\\\\n",
       "\\textbf{Df Model:}         &           2      & \\textbf{                     } &             \\\\\n",
       "\\textbf{Covariance Type:}  &    nonrobust     & \\textbf{                     } &             \\\\\n",
       "\\bottomrule\n",
       "\\end{tabular}\n",
       "\\begin{tabular}{lcccccc}\n",
       "                   & \\textbf{coef} & \\textbf{std err} & \\textbf{t} & \\textbf{P$> |$t$|$} & \\textbf{[0.025} & \\textbf{0.975]}  \\\\\n",
       "\\midrule\n",
       "\\textbf{Intercept} &    -259.0674  &       14.490     &   -17.879  &         0.000        &     -287.474    &     -230.661     \\\\\n",
       "\\textbf{log\\_GDP}  &       6.3599  &        0.057     &   112.387  &         0.000        &        6.249    &        6.471     \\\\\n",
       "\\textbf{Year}      &       0.1345  &        0.007     &    18.525  &         0.000        &        0.120    &        0.149     \\\\\n",
       "\\bottomrule\n",
       "\\end{tabular}\n",
       "\\begin{tabular}{lclc}\n",
       "\\textbf{Omnibus:}       & 1096.440 & \\textbf{  Durbin-Watson:     } &    0.088  \\\\\n",
       "\\textbf{Prob(Omnibus):} &   0.000  & \\textbf{  Jarque-Bera (JB):  } & 2582.760  \\\\\n",
       "\\textbf{Skew:}          &  -1.116  & \\textbf{  Prob(JB):          } &     0.00  \\\\\n",
       "\\textbf{Kurtosis:}      &   5.506  & \\textbf{  Cond. No.          } & 4.31e+05  \\\\\n",
       "\\bottomrule\n",
       "\\end{tabular}\n",
       "%\\caption{OLS Regression Results}\n",
       "\\end{center}\n",
       "\n",
       "Notes: \\newline\n",
       " [1] Standard Errors assume that the covariance matrix of the errors is correctly specified. \\newline\n",
       " [2] The condition number is large, 4.31e+05. This might indicate that there are \\newline\n",
       " strong multicollinearity or other numerical problems."
      ],
      "text/plain": [
       "<class 'statsmodels.iolib.summary.Summary'>\n",
       "\"\"\"\n",
       "                            OLS Regression Results                            \n",
       "==============================================================================\n",
       "Dep. Variable:        Life_Expectancy   R-squared:                       0.718\n",
       "Model:                            OLS   Adj. R-squared:                  0.718\n",
       "Method:                 Least Squares   F-statistic:                     7014.\n",
       "Date:                Tue, 28 Oct 2025   Prob (F-statistic):               0.00\n",
       "Time:                        21:12:45   Log-Likelihood:                -16668.\n",
       "No. Observations:                5504   AIC:                         3.334e+04\n",
       "Df Residuals:                    5501   BIC:                         3.336e+04\n",
       "Df Model:                           2                                         \n",
       "Covariance Type:            nonrobust                                         \n",
       "==============================================================================\n",
       "                 coef    std err          t      P>|t|      [0.025      0.975]\n",
       "------------------------------------------------------------------------------\n",
       "Intercept   -259.0674     14.490    -17.879      0.000    -287.474    -230.661\n",
       "log_GDP        6.3599      0.057    112.387      0.000       6.249       6.471\n",
       "Year           0.1345      0.007     18.525      0.000       0.120       0.149\n",
       "==============================================================================\n",
       "Omnibus:                     1096.440   Durbin-Watson:                   0.088\n",
       "Prob(Omnibus):                  0.000   Jarque-Bera (JB):             2582.760\n",
       "Skew:                          -1.116   Prob(JB):                         0.00\n",
       "Kurtosis:                       5.506   Cond. No.                     4.31e+05\n",
       "==============================================================================\n",
       "\n",
       "Notes:\n",
       "[1] Standard Errors assume that the covariance matrix of the errors is correctly specified.\n",
       "[2] The condition number is large, 4.31e+05. This might indicate that there are\n",
       "strong multicollinearity or other numerical problems.\n",
       "\"\"\""
      ]
     },
     "execution_count": 30,
     "metadata": {},
     "output_type": "execute_result"
    }
   ],
   "source": [
    "#create the linear model with year variable\n",
    "gdp_log_yr_model = smf.ols(\"Life_Expectancy ~ log_GDP + Year\", data=gdp_le).fit()\n",
    "gdp_log_yr_model.summary()"
   ]
  },
  {
   "cell_type": "markdown",
   "id": "d6a8f348-3f26-40d3-86f3-5659cb7a62de",
   "metadata": {},
   "source": [
    "**response** The year coefficent is 0.1345, which is significant with a p value of 0. The log_GDP coefficent is also significant and equal to 6.35. This means that both year and log_GDP have an effect on life expectancy, and the life expectancy incrases by 0.13 every year. Whereas the life expectancy increases by 6.3 years every log GDP unit. Therefore, both variables can impact life expectancy. \n",
    "\n",
    "<p></p> \n",
    "One limitation of this model is that the variables are not independent, since we are recording from each country (aka the same country) over time. We also are showing that both year and log_GDP can predict life expectancy, but are not looking at the interaction of both the year variable and the GDP variable together, assuming that the year variable might also impact GDP per year. Both of these can have interactions with eachother, which would make the relationship between all three variables much more complicated than this speciifc linear model represents"
   ]
  }
 ],
 "metadata": {
  "kernelspec": {
   "display_name": "Python 3 (ipykernel)",
   "language": "python",
   "name": "python3"
  },
  "language_info": {
   "codemirror_mode": {
    "name": "ipython",
    "version": 3
   },
   "file_extension": ".py",
   "mimetype": "text/x-python",
   "name": "python",
   "nbconvert_exporter": "python",
   "pygments_lexer": "ipython3",
   "version": "3.12.4"
  }
 },
 "nbformat": 4,
 "nbformat_minor": 5
}
